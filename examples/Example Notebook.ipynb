{
 "cells": [
  {
   "cell_type": "markdown",
   "metadata": {},
   "source": [
    "# ISS_Info"
   ]
  },
  {
   "cell_type": "markdown",
   "metadata": {},
   "source": [
    "**Python wrapper for tracking information about International Space Station via http://open-notify.org**"
   ]
  },
  {
   "cell_type": "code",
   "execution_count": 6,
   "metadata": {},
   "outputs": [],
   "source": [
    "import ISS_Info"
   ]
  },
  {
   "cell_type": "markdown",
   "metadata": {},
   "source": [
    "## **ISS_Info.iss_people_in_space()** \n",
    "<br>Returns the number of people present in International Space Station with their names"
   ]
  },
  {
   "cell_type": "code",
   "execution_count": 7,
   "metadata": {},
   "outputs": [
    {
     "data": {
      "text/plain": [
       "{'message': 'success',\n",
       " 'number': 3,\n",
       " 'people': [{'craft': 'ISS', 'name': 'Andrew Morgan'},\n",
       "  {'craft': 'ISS', 'name': 'Oleg Skripochka'},\n",
       "  {'craft': 'ISS', 'name': 'Jessica Meir'}]}"
      ]
     },
     "execution_count": 7,
     "metadata": {},
     "output_type": "execute_result"
    }
   ],
   "source": [
    "ISS_Info.iss_people_in_space() "
   ]
  },
  {
   "cell_type": "markdown",
   "metadata": {},
   "source": [
    "## **ISS_Info.iss_current_loc()**\n",
    "<br>Returns the position in Latitude and Longitude values of the Internation Space Station "
   ]
  },
  {
   "cell_type": "code",
   "execution_count": 8,
   "metadata": {},
   "outputs": [
    {
     "data": {
      "text/plain": [
       "{'message': 'success',\n",
       " 'iss_position': {'latitude': '-28.4499', 'longitude': '-117.6154'},\n",
       " 'timestamp': 1584883113}"
      ]
     },
     "execution_count": 8,
     "metadata": {},
     "output_type": "execute_result"
    }
   ],
   "source": [
    "ISS_Info.iss_current_loc()"
   ]
  },
  {
   "cell_type": "markdown",
   "metadata": {},
   "source": [
    "## **ISS_Info.iss_passes(lat,lon,alt,n)** \n",
    "<br>The international space station (ISS) is an orbital outpost circling high above out heads. Sometimes it’s overhead, but when? It depends on your location. Given a location on Earth (latitude, longitude, and altitude) this API will compute the next n number of times that the ISS will be overhead.\n",
    "Overhead is defined as 10° in elevation for the observer. The times are computed in UTC and the length of time that the ISS is above 10° is in seconds.\n",
    "\n",
    "This gives you enough information to compute pass times for up to several weeks, but beware! times are less and less accurate as you go into the future. This is because the orbit of the ISS decays unpredictably over time and because station controllers periodically move the station to higher and lower orbits for docking, re-boost, and debris avoidance."
   ]
  },
  {
   "cell_type": "markdown",
   "metadata": {},
   "source": [
    "|  Input  |  Description  |  Parameter Name  |  Valid Range  |  Units  |  Required  |\n",
    "|---------|---------------|------------------|---------------|---------|------------|\n",
    "|Latitude | The latitude of the place to predict passes              |      lat            |     -80 ~ 80          |   degrees      | YES |\n",
    "|   Longitude      |   \tThe longitude of the place to predict passes             |    lon              |     -180 ~ 180          |   degrees      | YES |\n",
    "|   Altitude      |    The altitude of the place to predict passes           |           alt       |      0 ~ 10,000         |         meters| Optional |\n",
    "|Number|The number of passes to return|n|1 ~ 100|–| Optional|"
   ]
  },
  {
   "cell_type": "code",
   "execution_count": 9,
   "metadata": {},
   "outputs": [
    {
     "data": {
      "text/plain": [
       "{'message': 'success',\n",
       " 'request': {'altitude': 200.0,\n",
       "  'datetime': 1584881185,\n",
       "  'latitude': -47.5,\n",
       "  'longitude': 71.0,\n",
       "  'passes': 2},\n",
       " 'response': [{'duration': 423, 'risetime': 1584922104},\n",
       "  {'duration': 647, 'risetime': 1584927752}]}"
      ]
     },
     "execution_count": 9,
     "metadata": {},
     "output_type": "execute_result"
    }
   ],
   "source": [
    "ISS_Info.iss_passes(-47.5,71,200,2) "
   ]
  }
 ],
 "metadata": {
  "kernelspec": {
   "display_name": "Python 3",
   "language": "python",
   "name": "python3"
  },
  "language_info": {
   "codemirror_mode": {
    "name": "ipython",
    "version": 3
   },
   "file_extension": ".py",
   "mimetype": "text/x-python",
   "name": "python",
   "nbconvert_exporter": "python",
   "pygments_lexer": "ipython3",
   "version": "3.7.7"
  }
 },
 "nbformat": 4,
 "nbformat_minor": 2
}
